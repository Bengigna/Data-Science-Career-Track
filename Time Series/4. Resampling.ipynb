{
 "cells": [
  {
   "cell_type": "code",
   "execution_count": 14,
   "metadata": {
    "collapsed": true
   },
   "outputs": [],
   "source": [
    "import pandas as pd\n",
    "import numpy as np"
   ]
  },
  {
   "cell_type": "code",
   "execution_count": 15,
   "metadata": {
    "collapsed": true
   },
   "outputs": [],
   "source": [
    "rng = pd.date_range('1/1/2011', periods=72, freq='H')\n",
    "ts = pd.Series(np.random.randn(len(rng)), index=rng)"
   ]
  },
  {
   "cell_type": "code",
   "execution_count": 18,
   "metadata": {},
   "outputs": [
    {
     "data": {
      "text/plain": [
       "2011-01-01 00:00:00    0.003657\n",
       "2011-01-01 00:45:00    0.003657\n",
       "2011-01-01 01:30:00   -0.021378\n",
       "2011-01-01 02:15:00   -0.898649\n",
       "2011-01-01 03:00:00   -0.769048\n",
       "Freq: 45T, dtype: float64"
      ]
     },
     "execution_count": 18,
     "metadata": {},
     "output_type": "execute_result"
    }
   ],
   "source": [
    "converted = ts.asfreq('45Min', method='pad')\n",
    "converted.head()"
   ]
  },
  {
   "cell_type": "code",
   "execution_count": 19,
   "metadata": {},
   "outputs": [
    {
     "name": "stdout",
     "output_type": "stream",
     "text": [
      "(72,)\n"
     ]
    },
    {
     "data": {
      "text/plain": [
       "(95,)"
      ]
     },
     "execution_count": 19,
     "metadata": {},
     "output_type": "execute_result"
    }
   ],
   "source": [
    "# Does asfreq change the # of rows? YES\n",
    "print(ts.shape)\n",
    "converted.shape"
   ]
  },
  {
   "cell_type": "markdown",
   "metadata": {},
   "source": [
    "##### What do the different methods do?\n",
    "##### method : {‘backfill’, ‘bfill’, ‘pad’, ‘ffill’, None}\n",
    "\n",
    "Method to use for filling holes in reindexed Series (note this does not fill NaNs that already were present):\n",
    "‘pad’ / ‘ffill’: propagate last valid observation forward to next valid\n",
    "‘backfill’ / ‘bfill’: use NEXT valid observation to fill"
   ]
  },
  {
   "cell_type": "markdown",
   "metadata": {},
   "source": [
    "##### Might any of these methods have pitfalls from a logical point of view?\n",
    "\n",
    "ffill is most common, not backfill. The reason for that is for time series you want to forcast from present/past to the future, not backword"
   ]
  },
  {
   "cell_type": "markdown",
   "metadata": {
    "collapsed": true
   },
   "source": [
    "##### What's the difference between going to a higher frequency and a lower frequency?\n",
    "\n",
    "The higher the frequency, the smaller the rows will be."
   ]
  },
  {
   "cell_type": "code",
   "execution_count": 21,
   "metadata": {},
   "outputs": [
    {
     "data": {
      "text/plain": [
       "2011-01-01 00:00:00    0.003657\n",
       "2011-01-01 01:30:00   -0.898649\n",
       "2011-01-01 03:00:00   -0.769048\n",
       "2011-01-01 04:30:00   -0.002964\n",
       "2011-01-01 06:00:00    0.084421\n",
       "Freq: 90T, dtype: float64"
      ]
     },
     "execution_count": 21,
     "metadata": {},
     "output_type": "execute_result"
    }
   ],
   "source": [
    "converted = ts.asfreq('90Min', method = 'bfill')\n",
    "converted.head()"
   ]
  },
  {
   "cell_type": "markdown",
   "metadata": {
    "collapsed": true
   },
   "source": [
    "#### What's different logically about going to a higher frequency vs a lower frequency? \n",
    "\n",
    "Higher frequency: decreases the number of your data, which means you are loosing data\n",
    "\n",
    "#### What do you want to do when switching to a lower freqeuncy that is not logical when switching to a higher frequency?\n",
    "\n",
    "you should do interpolation.\n"
   ]
  },
  {
   "cell_type": "code",
   "execution_count": 22,
   "metadata": {},
   "outputs": [
    {
     "data": {
      "text/plain": [
       "2011-01-01   -8.324808\n",
       "2011-01-02   -2.819263\n",
       "2011-01-03   -8.818349\n",
       "Freq: D, dtype: float64"
      ]
     },
     "execution_count": 22,
     "metadata": {},
     "output_type": "execute_result"
    }
   ],
   "source": [
    "ts.resample('D').sum()"
   ]
  },
  {
   "cell_type": "markdown",
   "metadata": {
    "collapsed": true
   },
   "source": [
    "#### What if you want to downsample and you don't want to ffill or bfill?\n",
    "\n",
    "use the 'None' for the method"
   ]
  },
  {
   "cell_type": "markdown",
   "metadata": {
    "collapsed": true
   },
   "source": [
    "##### What is the difference between .resample() and .asfreq()?\n",
    "You can do a lot of stuff with .resample(), which is a resampler object/aggregate. You can apply mean, count, sum...to the object. But, asfreq() is limited."
   ]
  },
  {
   "cell_type": "markdown",
   "metadata": {
    "collapsed": true
   },
   "source": [
    "#### What are some special things you can do with .resample() you can't do with .asfreq()?\n",
    "\n",
    "you can do mean, count, sum ...\n"
   ]
  }
 ],
 "metadata": {
  "kernelspec": {
   "display_name": "Python 3",
   "language": "python",
   "name": "python3"
  },
  "language_info": {
   "codemirror_mode": {
    "name": "ipython",
    "version": 3
   },
   "file_extension": ".py",
   "mimetype": "text/x-python",
   "name": "python",
   "nbconvert_exporter": "python",
   "pygments_lexer": "ipython3",
   "version": "3.6.1"
  },
  "widgets": {
   "state": {},
   "version": "1.1.1"
  }
 },
 "nbformat": 4,
 "nbformat_minor": 1
}
