{
 "cells": [
  {
   "cell_type": "markdown",
   "metadata": {},
   "source": [
    "### Summary on Informational Interviews\n",
    "Benhur Tedros"
   ]
  },
  {
   "cell_type": "markdown",
   "metadata": {},
   "source": [
    "I had a good discussion with three data science professionals who work in different companies within the country. All are working as a data scientist in their companies. The key responsibilities of the first person I talked are to make prediction models based on a customer's historical data and assign a coupon to a product which is predicted to be purchased by the customer. The model will prioritize 5 different brands of the same product for that specific customer. A coupon is prepared for the first prioritized brand and will be applied when the product is purchased by the customer. They use machine learning tools. More than 90 % of the time, they use supervised learning models such as logistic regression. Sometimes, they do clustering classification. To accomplish his job, he does a lot of cleaning and feature engineering and often utilize Python to get his work done. My friend likes his job and the company, as he loves to work with marketing data. Actually, he moved to this company inorder to get more exposure to market related data. His company expects effortness, excellent learning pattern, motivation and trustworthness from their employees.\n",
    "\n",
    "The second person I talked to works for a big IT company as a Senior Data & Applied Scientist focusing on cloud computing platform-Azure. According to him, his department has three different units which include business analytics, expertimental group and data science. My friend is part of the data science team which makes model prediction on the Azure users using machine learning tools. His main responsibilies are to extract, clean, explore pertinent data, select features needed and later make a prediction on the target variable. The data science team job starts when the team receives a question (that can be answered through machine learning tools) from the people at the higher management level. A certain approach is selected to answer the question provided. Importing the necessary data from the database, cleaning the data, applying feature engineering, model selection, model prediction and evaluation are the main steps they usually use to accomplish their project. The data science team utilizes either R or python for their analysis. About 80 % of the projects are supervised learing problems.\n",
    "\n",
    "The third profession works for a data science consulting company. His company takes data science related contracts from varieties of companies in different fields. My friend's main responsibility is to prepare proof of concept on the data science project on hand. His recent project was focused on fraud detection. After they get their historical data from their client, they clean the data, select features and use differernt type of supervised learning models such as logistic regression, SVR, Neural Network,Decision Tree. When they don't have enough historical data, they utilize bootstraping and balance the data before applying hierarchical clustering algorithm. Python and R are the main programming tools he utilizes to accomplish his projects.\n",
    "\n",
    "As a conclusion, I liked the roles that my friends are holding in their companys. During our discussion, I was very familiar to almost all the terms and tools they use during their daily task. After completing my course, I can see myself working for similar roles."
   ]
  },
  {
   "cell_type": "code",
   "execution_count": null,
   "metadata": {
    "collapsed": true
   },
   "outputs": [],
   "source": []
  }
 ],
 "metadata": {
  "kernelspec": {
   "display_name": "Python 3",
   "language": "python",
   "name": "python3"
  },
  "language_info": {
   "codemirror_mode": {
    "name": "ipython",
    "version": 3
   },
   "file_extension": ".py",
   "mimetype": "text/x-python",
   "name": "python",
   "nbconvert_exporter": "python",
   "pygments_lexer": "ipython3",
   "version": "3.6.1"
  }
 },
 "nbformat": 4,
 "nbformat_minor": 2
}
