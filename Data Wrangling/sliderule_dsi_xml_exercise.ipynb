{
 "cells": [
  {
   "cell_type": "markdown",
   "metadata": {},
   "source": [
    "# XML example and exercise\n",
    "****\n",
    "+ study examples of accessing nodes in XML tree structure  \n",
    "+ work on exercise to be completed and submitted\n",
    "****\n",
    "+ reference: https://docs.python.org/2.7/library/xml.etree.elementtree.html\n",
    "+ data source: http://www.dbis.informatik.uni-goettingen.de/Mondial\n",
    "****"
   ]
  },
  {
   "cell_type": "code",
   "execution_count": 1,
   "metadata": {
    "collapsed": true
   },
   "outputs": [],
   "source": [
    "from xml.etree import ElementTree as ET"
   ]
  },
  {
   "cell_type": "markdown",
   "metadata": {},
   "source": [
    "## XML example\n",
    "\n",
    "+ for details about tree traversal and iterators, see https://docs.python.org/2.7/library/xml.etree.elementtree.html"
   ]
  },
  {
   "cell_type": "code",
   "execution_count": 2,
   "metadata": {
    "collapsed": true
   },
   "outputs": [],
   "source": [
    "document_tree = ET.parse( './data/mondial_database_less.xml' )"
   ]
  },
  {
   "cell_type": "code",
   "execution_count": 3,
   "metadata": {
    "collapsed": false
   },
   "outputs": [
    {
     "name": "stdout",
     "output_type": "stream",
     "text": [
      "Albania\n",
      "Greece\n",
      "Macedonia\n",
      "Serbia\n",
      "Montenegro\n",
      "Kosovo\n",
      "Andorra\n"
     ]
    }
   ],
   "source": [
    "# print names of all countries\n",
    "for child in document_tree.getroot():\n",
    "    print (child.find('name').text)"
   ]
  },
  {
   "cell_type": "code",
   "execution_count": 4,
   "metadata": {
    "collapsed": false
   },
   "outputs": [
    {
     "name": "stdout",
     "output_type": "stream",
     "text": [
      "* Albania:\n",
      "Tirana, Shkodër, Durrës, Vlorë, Elbasan, Korçë\n",
      "* Greece:\n",
      "Komotini, Kavala, Athina, Peiraias, Peristeri, Acharnes, Patra, Kozani, Kerkyra, Ioannina, Thessaloniki, Iraklio, Chania, Ermoupoli, Rhodes, Tripoli, Lamia, Chalkida, Larissa, Volos, Mytilini, Karyes\n",
      "* Macedonia:\n",
      "Skopje, Kumanovo\n",
      "* Serbia:\n",
      "Beograd, Novi Sad, Niš\n",
      "* Montenegro:\n",
      "Podgorica\n",
      "* Kosovo:\n",
      "Prishtine\n",
      "* Andorra:\n",
      "Andorra la Vella\n"
     ]
    }
   ],
   "source": [
    "# print names of all countries and their cities\n",
    "for element in document_tree.iterfind('country'):\n",
    "    print ('* ' + element.find('name').text + ':'),\n",
    "    capitals_string = ''\n",
    "    for subelement in element.getiterator('city'):\n",
    "        capitals_string += subelement.find('name').text + ', '\n",
    "    print (capitals_string[:-2])"
   ]
  },
  {
   "cell_type": "markdown",
   "metadata": {},
   "source": [
    "****\n",
    "## XML exercise\n",
    "\n",
    "Using data in 'data/mondial_database.xml', the examples above, and refering to https://docs.python.org/2.7/library/xml.etree.elementtree.html, find\n",
    "\n",
    "1. 10 countries with the lowest infant mortality rates\n",
    "2. 10 cities with the largest population\n",
    "3. 10 ethnic groups with the largest overall populations (sum of best/latest estimates over all countries)\n",
    "4. name and country of a) longest river, b) largest lake and c) airport at highest elevation"
   ]
  },
  {
   "cell_type": "code",
   "execution_count": 5,
   "metadata": {
    "collapsed": false
   },
   "outputs": [],
   "source": [
    "from xml.etree import ElementTree as ET\n",
    "import numpy as np\n",
    "import pandas as pd"
   ]
  },
  {
   "cell_type": "code",
   "execution_count": 6,
   "metadata": {
    "collapsed": true
   },
   "outputs": [],
   "source": [
    "document = ET.parse( './data/mondial_database.xml' )"
   ]
  },
  {
   "cell_type": "code",
   "execution_count": 7,
   "metadata": {
    "collapsed": false
   },
   "outputs": [],
   "source": [
    "source = document.getroot()"
   ]
  },
  {
   "cell_type": "code",
   "execution_count": 8,
   "metadata": {
    "collapsed": false
   },
   "outputs": [],
   "source": [
    "def cities(elem):\n",
    "    for e in elem.findall('city'):\n",
    "        yield e\n",
    "    for pro in elem.findall('province'):\n",
    "        for x in pro.findall('city'):\n",
    "            yield x\n",
    "\n",
    "country_d = {}\n",
    "city_d= {}\n",
    "\n",
    "ethnic_list = []\n",
    "popl_list = []\n",
    "\n",
    "for country in source.iter('country'):\n",
    "    country_name = country.find('name').text\n",
    "    country_d[country_name] = {}\n",
    "    country_d[country_name]['name'] = country_name\n",
    "    country_d[country_name]['car_code'] = country.attrib['car_code']\n",
    "    try:\n",
    "        country_d[country_name]['infant_mortality'] = country.find('infant_mortality').text\n",
    "    except:\n",
    "        country_d[country_name]['infant_mortality'] = np.nan\n",
    "    \n",
    "    country_d[country_name]['area'] = country.attrib.get('area', np.nan)\n",
    "    country_d[country_name]['capital'] = country.attrib.get('capital', np.nan)\n",
    "    \n",
    "# country_d1 = pd.DataFrame.from_dict(country_d, orient='index')\n",
    "# country_d1 = pd.DataFrame(country_d).transpose() \n",
    "\n",
    "    # 10 cities with the largest population.To answer this question, \n",
    "    # let us populate the country information in ethnic_list    \n",
    "    for e in country.findall('ethnicgroup'):\n",
    "        ethnic = {}\n",
    "        ethnic_name = e.text\n",
    "        ethnic['name'] = ethnic_name\n",
    "        ethnic['country'] = country_name\n",
    "        ethnic['percentage'] = e.attrib.get('percentage',np.nan)\n",
    "        ethnic_list.append(ethnic)\n",
    "        \n",
    "    # Let us populate ethnic group info in city_dict\n",
    "    for e1 in cities(country):\n",
    "        city = {}\n",
    "        cityname = e1.find('name').text \n",
    "        city['name'] = cityname\n",
    "        pop_years = []\n",
    "        \n",
    "        for elem in e1.findall('population'):\n",
    "            pop_years.append(int(elem.attrib['year']))\n",
    "            key = 'population_' + elem.attrib['year']\n",
    "            city[key] = elem.text\n",
    "        try:\n",
    "            late_year = max(pop_years)\n",
    "            late_yearkey = 'population_' + str(late_year)\n",
    "            city['population_latest'] = city[late_yearkey]\n",
    "        except:\n",
    "            city['population_latest'] = np.nan\n",
    "        city_d[cityname] = city  \n",
    "        \n",
    "    # Let us populate country info in pop_list\n",
    "    for elem in country.findall('population'):\n",
    "        popl = {}\n",
    "        popl['population'] = int(elem.text)\n",
    "        popl['est_type'] = elem.attrib.get('measured', np.nan)\n",
    "        popl['year'] = elem.attrib.get('year', np.nan)\n",
    "        popl['country'] = country_name\n",
    "        popl_list.append(popl)\n"
   ]
  },
  {
   "cell_type": "code",
   "execution_count": 9,
   "metadata": {
    "collapsed": false
   },
   "outputs": [
    {
     "data": {
      "text/plain": [
       "Monaco            1.81\n",
       "Japan             2.13\n",
       "Norway            2.48\n",
       "Bermuda           2.48\n",
       "Singapore         2.53\n",
       "Sweden            2.60\n",
       "Czech Republic    2.63\n",
       "Hong Kong         2.73\n",
       "Macao             3.13\n",
       "Iceland           3.15\n",
       "Name: infant_mortality, dtype: float64"
      ]
     },
     "execution_count": 9,
     "metadata": {},
     "output_type": "execute_result"
    }
   ],
   "source": [
    "#  10 countries with the lowest infant mortality rates\n",
    "country_d1 = pd.DataFrame.from_dict(country_d, orient='index')\n",
    "country_d1.infant_mortality = country_d1.infant_mortality.astype(float)\n",
    "country_d1.sort_values(by='infant_mortality', ascending=True).head(10).infant_mortality\n"
   ]
  },
  {
   "cell_type": "code",
   "execution_count": 10,
   "metadata": {
    "collapsed": false
   },
   "outputs": [
    {
     "data": {
      "text/plain": [
       "Shanghai     22315474\n",
       "Istanbul     13710512\n",
       "Mumbai       12442373\n",
       "Moskva       11979529\n",
       "Beijing      11716620\n",
       "São Paulo    11152344\n",
       "Tianjin      11090314\n",
       "Guangzhou    11071424\n",
       "Delhi        11034555\n",
       "Shenzhen     10358381\n",
       "Name: population_latest, dtype: int32"
      ]
     },
     "execution_count": 10,
     "metadata": {},
     "output_type": "execute_result"
    }
   ],
   "source": [
    "# 10 cities with the largest population\n",
    "c_largepop = pd.DataFrame.from_dict(city_d, orient='index')\n",
    "c_largepop = c_largepop.dropna(subset=['population_latest'],how='all')\n",
    "c_largepop.population_latest = c_largepop.population_latest.astype(int)\n",
    "c_largepop.sort_values(by='population_latest', ascending=False).head(10).population_latest"
   ]
  },
  {
   "cell_type": "code",
   "execution_count": 17,
   "metadata": {
    "collapsed": false
   },
   "outputs": [
    {
     "data": {
      "text/html": [
       "<div>\n",
       "<table border=\"1\" class=\"dataframe\">\n",
       "  <thead>\n",
       "    <tr style=\"text-align: right;\">\n",
       "      <th></th>\n",
       "      <th>country</th>\n",
       "      <th>est_type</th>\n",
       "      <th>population</th>\n",
       "      <th>year</th>\n",
       "    </tr>\n",
       "  </thead>\n",
       "  <tbody>\n",
       "    <tr>\n",
       "      <th>570</th>\n",
       "      <td>Afghanistan</td>\n",
       "      <td>estimate</td>\n",
       "      <td>26023100</td>\n",
       "      <td>2013</td>\n",
       "    </tr>\n",
       "    <tr>\n",
       "      <th>8</th>\n",
       "      <td>Albania</td>\n",
       "      <td>census</td>\n",
       "      <td>2800138</td>\n",
       "      <td>2011</td>\n",
       "    </tr>\n",
       "    <tr>\n",
       "      <th>1741</th>\n",
       "      <td>Algeria</td>\n",
       "      <td>est.</td>\n",
       "      <td>37062820</td>\n",
       "      <td>2010</td>\n",
       "    </tr>\n",
       "    <tr>\n",
       "      <th>1389</th>\n",
       "      <td>American Samoa</td>\n",
       "      <td>census</td>\n",
       "      <td>55519</td>\n",
       "      <td>2010</td>\n",
       "    </tr>\n",
       "    <tr>\n",
       "      <th>63</th>\n",
       "      <td>Andorra</td>\n",
       "      <td>admin.</td>\n",
       "      <td>78115</td>\n",
       "      <td>2011</td>\n",
       "    </tr>\n",
       "  </tbody>\n",
       "</table>\n",
       "</div>"
      ],
      "text/plain": [
       "             country  est_type  population  year\n",
       "570      Afghanistan  estimate    26023100  2013\n",
       "8            Albania    census     2800138  2011\n",
       "1741         Algeria      est.    37062820  2010\n",
       "1389  American Samoa    census       55519  2010\n",
       "63           Andorra    admin.       78115  2011"
      ]
     },
     "execution_count": 17,
     "metadata": {},
     "output_type": "execute_result"
    }
   ],
   "source": [
    "# Population estimate of the countries based on the latest census\n",
    "\n",
    "popl_est = pd.DataFrame(popl_list)\n",
    "#popl_est_census = popl_est[popl_est.est_type == 'census']\n",
    "popl_est_best = popl_est.ix[popl_est.groupby('country',as_index=False)['year'].idxmax(axis='year')]\n",
    "popl_est_best.head()"
   ]
  },
  {
   "cell_type": "code",
   "execution_count": 18,
   "metadata": {
    "collapsed": false
   },
   "outputs": [
    {
     "data": {
      "text/plain": [
       "name\n",
       "Han Chinese    1245058800\n",
       "Indo-Aryan      871815583\n",
       "European        494872201\n",
       "African         318325104\n",
       "Dravidian       302713744\n",
       "Mestizo         157734349\n",
       "Bengali         146776916\n",
       "Russian         131856989\n",
       "Japanese        126534212\n",
       "Malay           121993548\n",
       "Name: ethn_pop, dtype: int32"
      ]
     },
     "execution_count": 18,
     "metadata": {},
     "output_type": "execute_result"
    }
   ],
   "source": [
    "#  10 ethnic groups with the largest overall populations (sum of best/latest estimates over all countries)\n",
    "df = pd.DataFrame(ethnic_list)\n",
    "df_ethnic = pd.merge(df, popl_est_best, on='country')\n",
    "df_ethnic.percentage = df_ethnic.percentage.astype(float)\n",
    "df_ethnic['ethn_pop'] = ((df_ethnic.percentage / 100.00) * df_ethnic.population).astype(int)\n",
    "ethn_sum = df_ethnic.groupby('name').sum()\n",
    "\n",
    "# 10 Ethnic groups with their respective population size sorted in descending order\n",
    "ethn_sum.ethn_pop.sort_values(ascending=False).head(10)"
   ]
  },
  {
   "cell_type": "code",
   "execution_count": 13,
   "metadata": {
    "collapsed": false
   },
   "outputs": [
    {
     "data": {
      "text/html": [
       "<div>\n",
       "<table border=\"1\" class=\"dataframe\">\n",
       "  <thead>\n",
       "    <tr style=\"text-align: right;\">\n",
       "      <th></th>\n",
       "      <th>index</th>\n",
       "      <th>name</th>\n",
       "      <th>infant_mortality</th>\n",
       "      <th>area</th>\n",
       "      <th>capital</th>\n",
       "    </tr>\n",
       "    <tr>\n",
       "      <th>car_code</th>\n",
       "      <th></th>\n",
       "      <th></th>\n",
       "      <th></th>\n",
       "      <th></th>\n",
       "      <th></th>\n",
       "    </tr>\n",
       "  </thead>\n",
       "  <tbody>\n",
       "    <tr>\n",
       "      <th>AFG</th>\n",
       "      <td>Afghanistan</td>\n",
       "      <td>Afghanistan</td>\n",
       "      <td>117.23</td>\n",
       "      <td>647500</td>\n",
       "      <td>cty-Afghanistan-Kabul</td>\n",
       "    </tr>\n",
       "    <tr>\n",
       "      <th>AL</th>\n",
       "      <td>Albania</td>\n",
       "      <td>Albania</td>\n",
       "      <td>13.19</td>\n",
       "      <td>28750</td>\n",
       "      <td>cty-Albania-Tirane</td>\n",
       "    </tr>\n",
       "    <tr>\n",
       "      <th>DZ</th>\n",
       "      <td>Algeria</td>\n",
       "      <td>Algeria</td>\n",
       "      <td>21.76</td>\n",
       "      <td>2381740</td>\n",
       "      <td>cty-Algeria-Algiers</td>\n",
       "    </tr>\n",
       "  </tbody>\n",
       "</table>\n",
       "</div>"
      ],
      "text/plain": [
       "                index         name infant_mortality     area  \\\n",
       "car_code                                                       \n",
       "AFG       Afghanistan  Afghanistan           117.23   647500   \n",
       "AL            Albania      Albania            13.19    28750   \n",
       "DZ            Algeria      Algeria            21.76  2381740   \n",
       "\n",
       "                        capital  \n",
       "car_code                         \n",
       "AFG       cty-Afghanistan-Kabul  \n",
       "AL           cty-Albania-Tirane  \n",
       "DZ          cty-Algeria-Algiers  "
      ]
     },
     "execution_count": 13,
     "metadata": {},
     "output_type": "execute_result"
    }
   ],
   "source": [
    "# Let us pull the country_d and set the 'car_code' as an index\n",
    "df_carcode = pd.DataFrame.from_dict(country_d, orient='index').reset_index().set_index('car_code')\n",
    "df_carcode.head(3)"
   ]
  },
  {
   "cell_type": "code",
   "execution_count": 14,
   "metadata": {
    "collapsed": false
   },
   "outputs": [
    {
     "data": {
      "text/html": [
       "<div>\n",
       "<table border=\"1\" class=\"dataframe\">\n",
       "  <thead>\n",
       "    <tr style=\"text-align: right;\">\n",
       "      <th></th>\n",
       "      <th>name</th>\n",
       "      <th>country_abbrevation</th>\n",
       "      <th>length</th>\n",
       "      <th>country_names</th>\n",
       "    </tr>\n",
       "  </thead>\n",
       "  <tbody>\n",
       "    <tr>\n",
       "      <th>river-Amazonas</th>\n",
       "      <td>Amazonas</td>\n",
       "      <td>CO BR PE</td>\n",
       "      <td>6448.0</td>\n",
       "      <td>[Colombia, Brazil, Peru]</td>\n",
       "    </tr>\n",
       "    <tr>\n",
       "      <th>river-Jangtse</th>\n",
       "      <td>Jangtse</td>\n",
       "      <td>CN</td>\n",
       "      <td>6380.0</td>\n",
       "      <td>[China]</td>\n",
       "    </tr>\n",
       "    <tr>\n",
       "      <th>river-Hwangho</th>\n",
       "      <td>Hwangho</td>\n",
       "      <td>CN</td>\n",
       "      <td>4845.0</td>\n",
       "      <td>[China]</td>\n",
       "    </tr>\n",
       "    <tr>\n",
       "      <th>river-Lena</th>\n",
       "      <td>Lena</td>\n",
       "      <td>R</td>\n",
       "      <td>4400.0</td>\n",
       "      <td>[Russia]</td>\n",
       "    </tr>\n",
       "    <tr>\n",
       "      <th>river-Zaire</th>\n",
       "      <td>Zaire</td>\n",
       "      <td>RCB ZRE</td>\n",
       "      <td>4374.0</td>\n",
       "      <td>[Congo, Zaire]</td>\n",
       "    </tr>\n",
       "    <tr>\n",
       "      <th>river-Mekong</th>\n",
       "      <td>Mekong</td>\n",
       "      <td>CN LAO THA K VN</td>\n",
       "      <td>4350.0</td>\n",
       "      <td>[China, Laos, Thailand, Cambodia, Vietnam]</td>\n",
       "    </tr>\n",
       "    <tr>\n",
       "      <th>river-Irtysch</th>\n",
       "      <td>Irtysch</td>\n",
       "      <td>R KAZ CN</td>\n",
       "      <td>4248.0</td>\n",
       "      <td>[Russia, Kazakhstan, China]</td>\n",
       "    </tr>\n",
       "    <tr>\n",
       "      <th>river-Niger</th>\n",
       "      <td>Niger</td>\n",
       "      <td>RMM RN WAN RG</td>\n",
       "      <td>4184.0</td>\n",
       "      <td>[Mali, Niger, Nigeria, Guinea]</td>\n",
       "    </tr>\n",
       "    <tr>\n",
       "      <th>river-Missouri_River</th>\n",
       "      <td>Missouri</td>\n",
       "      <td>USA</td>\n",
       "      <td>4130.0</td>\n",
       "      <td>[United States]</td>\n",
       "    </tr>\n",
       "    <tr>\n",
       "      <th>river-Jenissej</th>\n",
       "      <td>Jenissej</td>\n",
       "      <td>R</td>\n",
       "      <td>4092.0</td>\n",
       "      <td>[Russia]</td>\n",
       "    </tr>\n",
       "  </tbody>\n",
       "</table>\n",
       "</div>"
      ],
      "text/plain": [
       "                          name country_abbrevation  length  \\\n",
       "river-Amazonas        Amazonas            CO BR PE  6448.0   \n",
       "river-Jangtse          Jangtse                  CN  6380.0   \n",
       "river-Hwangho          Hwangho                  CN  4845.0   \n",
       "river-Lena                Lena                   R  4400.0   \n",
       "river-Zaire              Zaire             RCB ZRE  4374.0   \n",
       "river-Mekong            Mekong     CN LAO THA K VN  4350.0   \n",
       "river-Irtysch          Irtysch            R KAZ CN  4248.0   \n",
       "river-Niger              Niger       RMM RN WAN RG  4184.0   \n",
       "river-Missouri_River  Missouri                 USA  4130.0   \n",
       "river-Jenissej        Jenissej                   R  4092.0   \n",
       "\n",
       "                                                   country_names  \n",
       "river-Amazonas                          [Colombia, Brazil, Peru]  \n",
       "river-Jangtse                                            [China]  \n",
       "river-Hwangho                                            [China]  \n",
       "river-Lena                                              [Russia]  \n",
       "river-Zaire                                       [Congo, Zaire]  \n",
       "river-Mekong          [China, Laos, Thailand, Cambodia, Vietnam]  \n",
       "river-Irtysch                        [Russia, Kazakhstan, China]  \n",
       "river-Niger                       [Mali, Niger, Nigeria, Guinea]  \n",
       "river-Missouri_River                             [United States]  \n",
       "river-Jenissej                                          [Russia]  "
      ]
     },
     "execution_count": 14,
     "metadata": {},
     "output_type": "execute_result"
    }
   ],
   "source": [
    "# name and country of a) longest river\n",
    "dict_river = {}\n",
    "\n",
    "for r in source.iter('river'):\n",
    "    river = {}\n",
    "    river_id = r.attrib['id']\n",
    "    river['name'] = r.find('name').text\n",
    "    river['ccodes'] = r.attrib.get('country',np.nan)\n",
    "    try:\n",
    "        river['length'] = r.find('length').text\n",
    "    except:\n",
    "        river['length'] = np.nan\n",
    "        \n",
    "    \n",
    "    country_names = []\n",
    "    for cc in r.attrib['country'].split(' '):\n",
    "        country_names.append(df_carcode.loc[cc]['index'])\n",
    "    \n",
    "    river['country_names'] = country_names\n",
    "    dict_river[river_id] = river\n",
    "    \n",
    "df_river = pd.DataFrame.from_dict(dict_river, orient='index')\n",
    "df_river.length = df_river.length.astype(float)\n",
    "df_river.sort_values(by='length', ascending=False).head(10).rename(columns = {'ccodes':'country_abbrevation'})"
   ]
  },
  {
   "cell_type": "code",
   "execution_count": 15,
   "metadata": {
    "collapsed": false
   },
   "outputs": [
    {
     "data": {
      "text/html": [
       "<div>\n",
       "<table border=\"1\" class=\"dataframe\">\n",
       "  <thead>\n",
       "    <tr style=\"text-align: right;\">\n",
       "      <th></th>\n",
       "      <th>name</th>\n",
       "      <th>country_abbrevation</th>\n",
       "      <th>area</th>\n",
       "      <th>country_names</th>\n",
       "    </tr>\n",
       "  </thead>\n",
       "  <tbody>\n",
       "    <tr>\n",
       "      <th>lake-KaspischesMeer</th>\n",
       "      <td>Caspian Sea</td>\n",
       "      <td>R AZ KAZ IR TM</td>\n",
       "      <td>386400.0</td>\n",
       "      <td>[Russia, Azerbaijan, Kazakhstan, Iran, Turkmen...</td>\n",
       "    </tr>\n",
       "  </tbody>\n",
       "</table>\n",
       "</div>"
      ],
      "text/plain": [
       "                            name country_abbrevation      area  \\\n",
       "lake-KaspischesMeer  Caspian Sea      R AZ KAZ IR TM  386400.0   \n",
       "\n",
       "                                                         country_names  \n",
       "lake-KaspischesMeer  [Russia, Azerbaijan, Kazakhstan, Iran, Turkmen...  "
      ]
     },
     "execution_count": 15,
     "metadata": {},
     "output_type": "execute_result"
    }
   ],
   "source": [
    "# Name and Country of b) largest lake\n",
    "\n",
    "dict_lake = {}\n",
    "for l in source.iter('lake'):\n",
    "    lake = {}\n",
    "    lake_id = l.attrib['id']\n",
    "    lake['name'] = l.find('name').text\n",
    "    lake['ccodes'] = l.attrib.get('country')\n",
    "    \n",
    "    try:\n",
    "        lake['area'] = float(l.find('area').text)\n",
    "    except:\n",
    "        lake['area'] = np.nan\n",
    "        \n",
    "    \n",
    "    country_names = []\n",
    "    for cc in l.attrib['country'].split(' '):\n",
    "        country_names.append(df_carcode.loc[cc]['index'])\n",
    "    \n",
    "    lake['country_names'] = country_names\n",
    "    dict_lake[lake_id] = lake\n",
    "    \n",
    "df_lake = pd.DataFrame.from_dict(dict_lake, orient='index')\n",
    "df_lake.area = df_lake.area.astype(float)\n",
    "df_lake.sort_values(by='area', ascending=False).head(1).rename(columns = {'ccodes':'country_abbrevation'})"
   ]
  },
  {
   "cell_type": "code",
   "execution_count": 16,
   "metadata": {
    "collapsed": false
   },
   "outputs": [
    {
     "data": {
      "text/html": [
       "<div>\n",
       "<table border=\"1\" class=\"dataframe\">\n",
       "  <thead>\n",
       "    <tr style=\"text-align: right;\">\n",
       "      <th></th>\n",
       "      <th>name</th>\n",
       "      <th>country_abbrevation</th>\n",
       "      <th>elevation</th>\n",
       "      <th>country_names</th>\n",
       "    </tr>\n",
       "  </thead>\n",
       "  <tbody>\n",
       "    <tr>\n",
       "      <th>LPB</th>\n",
       "      <td>El Alto Intl</td>\n",
       "      <td>BOL</td>\n",
       "      <td>4063.0</td>\n",
       "      <td>[Bolivia]</td>\n",
       "    </tr>\n",
       "  </tbody>\n",
       "</table>\n",
       "</div>"
      ],
      "text/plain": [
       "             name country_abbrevation  elevation country_names\n",
       "LPB  El Alto Intl                 BOL     4063.0     [Bolivia]"
      ]
     },
     "execution_count": 16,
     "metadata": {},
     "output_type": "execute_result"
    }
   ],
   "source": [
    "# Name and Country of c) airport at highest elevation\n",
    "\n",
    "dict_air = {}\n",
    "for a in source.iter('airport'):\n",
    "    airport = {}\n",
    "    air_id = a.attrib.get('iatacode')\n",
    "    airport['name'] = a.find('name').text\n",
    "    airport['ccodes'] = a.attrib.get('country')\n",
    "    \n",
    "    try:\n",
    "        airport['elevation'] = float(a.find('elevation').text)\n",
    "    except:\n",
    "        airport['elevation'] = np.nan\n",
    "        \n",
    "    \n",
    "    country_names = []\n",
    "    for cc in a.attrib['country'].split(' '):\n",
    "        country_names.append(df_carcode.loc[cc]['index'])\n",
    "        \n",
    "    airport['country_names'] = country_names\n",
    "    dict_air[air_id] = airport\n",
    "\n",
    "df_air = pd.DataFrame.from_dict(dict_air, orient='index')\n",
    "df_air.area = df_air.elevation.astype(float)\n",
    "df_air.sort_values(by='elevation', ascending=False).head(1).rename(columns = {'ccodes':'country_abbrevation'})\n",
    "    "
   ]
  },
  {
   "cell_type": "code",
   "execution_count": null,
   "metadata": {
    "collapsed": true
   },
   "outputs": [],
   "source": []
  }
 ],
 "metadata": {
  "kernelspec": {
   "display_name": "Python 3",
   "language": "python",
   "name": "python3"
  },
  "language_info": {
   "codemirror_mode": {
    "name": "ipython",
    "version": 3
   },
   "file_extension": ".py",
   "mimetype": "text/x-python",
   "name": "python",
   "nbconvert_exporter": "python",
   "pygments_lexer": "ipython3",
   "version": "3.6.0"
  }
 },
 "nbformat": 4,
 "nbformat_minor": 0
}
