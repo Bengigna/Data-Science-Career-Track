{
 "cells": [
  {
   "cell_type": "markdown",
   "metadata": {},
   "source": [
    "# Examining Racial Discrimination in the US Job Market\n",
    "\n",
    "### Background\n",
    "Racial discrimination continues to be pervasive in cultures throughout the world. Researchers examined the level of racial discrimination in the United States labor market by randomly assigning identical résumés to black-sounding or white-sounding names and observing the impact on requests for interviews from employers.\n",
    "\n",
    "### Data\n",
    "In the dataset provided, each row represents a resume. The 'race' column has two values, 'b' and 'w', indicating black-sounding and white-sounding. The column 'call' has two values, 1 and 0, indicating whether the resume received a call from employers or not.\n",
    "\n",
    "Note that the 'b' and 'w' values in race are assigned randomly to the resumes when presented to the employer."
   ]
  },
  {
   "cell_type": "code",
   "execution_count": null,
   "metadata": {
    "collapsed": true
   },
   "outputs": [],
   "source": [
    "# ****\n",
    "# <div class=\"span5 alert alert-info\">\n",
    "# ### Exercises\n",
    "# You will perform a statistical analysis to establish whether race has a significant impact on the rate of callbacks for resumes.\n",
    "\n",
    "# Answer the following questions **in this notebook below and submit to your Github account**. \n",
    "\n",
    "#    1. What test is appropriate for this problem? Does CLT apply?\n",
    "#    2. What are the null and alternate hypotheses?\n",
    "#    3. Compute margin of error, confidence interval, and p-value.\n",
    "#    4. Write a story describing the statistical significance in the context or the original problem.\n",
    "#    5. Does your analysis mean that race/name is the most important factor in callback success? Why or why not? If not, how would you amend your analysis?\n",
    "\n",
    "# You can include written notes in notebook cells using Markdown: \n",
    "#    - In the control panel at the top, choose Cell > Cell Type > Markdown\n",
    "#    - Markdown syntax: http://nestacms.com/docs/creating-content/markdown-cheat-sheet\n",
    "\n",
    "\n",
    "# #### Resources\n",
    "# + Experiment information and data source: http://www.povertyactionlab.org/evaluation/discrimination-job-market-united-states\n",
    "# + Scipy statistical methods: http://docs.scipy.org/doc/scipy/reference/stats.html \n",
    "# + Markdown syntax: http://nestacms.com/docs/creating-content/markdown-cheat-sheet\n",
    "# </div>\n",
    "# ****\n"
   ]
  },
  {
   "cell_type": "markdown",
   "metadata": {},
   "source": [
    "## Answer to the questions"
   ]
  },
  {
   "cell_type": "code",
   "execution_count": 1,
   "metadata": {
    "collapsed": true
   },
   "outputs": [],
   "source": [
    "import pandas as pd\n",
    "import numpy as np\n",
    "from scipy import stats\n",
    "import math"
   ]
  },
  {
   "cell_type": "code",
   "execution_count": 2,
   "metadata": {
    "collapsed": false
   },
   "outputs": [],
   "source": [
    "data = pd.io.stata.read_stata('data/us_job_market_discrimination.dta')"
   ]
  },
  {
   "cell_type": "code",
   "execution_count": 3,
   "metadata": {
    "collapsed": false
   },
   "outputs": [
    {
     "name": "stdout",
     "output_type": "stream",
     "text": [
      "Total callbacks =392\n",
      "Black-sounding resume callbacks =157\n",
      "White-sounding resume callbacks =235\n",
      "No callback for black-sounding resume =2278\n",
      "No callbacks for white-sounding resume =2200\n"
     ]
    }
   ],
   "source": [
    "# Total number of callbacks\n",
    "\n",
    "Tcall= len(data[data['call'] == 1])\n",
    "print ('Total callbacks =%d' % Tcall)\n",
    "\n",
    "# number of callbacks for black-sounding names\n",
    "Bcall = sum(data[data.race=='b'].call).astype(int)\n",
    "print('Black-sounding resume callbacks =%d' % Bcall)\n",
    "\n",
    "# number of callbacks for white-sounding names\n",
    "Wcall = sum(data[data.race=='w'].call).astype(int)\n",
    "print('White-sounding resume callbacks =%d'% Wcall)\n",
    "\n",
    "# number of NOcallbacks for black-sounding names\n",
    "Bcall_no = len(data.loc[(data['race'] == 'b') & data['call'].isin([0])])\n",
    "print('No callback for black-sounding resume =%d' % Bcall_no)\n",
    "\n",
    "# number of NOcallbacks for white-sounding names\n",
    "Wcall_no = len(data.loc[(data['race'] == 'w') & data['call'].isin([0])])\n",
    "print('No callbacks for white-sounding resume =%d' % Wcall_no)\n"
   ]
  },
  {
   "cell_type": "markdown",
   "metadata": {
    "collapsed": true
   },
   "source": [
    "#### 1) What test is appropriate for this problem? Does CLT apply?"
   ]
  },
  {
   "cell_type": "markdown",
   "metadata": {},
   "source": [
    "The paired two sample Z-test would be the appropriate test to solve this problem, as two groups are assumed to be present. The sample size is 4870, which is greater than 30. The observations seem to be independent, as the selection of one does not affect the other. Assigning the 'b' and 'w' values was random. Therefore, the CLT seems to apply because of the reasons mentioned above."
   ]
  },
  {
   "cell_type": "markdown",
   "metadata": {},
   "source": [
    "#### 2) What are the null and alternate hypotheses?\n",
    "\n",
    "Null hypothesis, Ho: black-sounding or white-sounding resumes does not have a significant effect to be called for an interview\n",
    "\n",
    "Alternative hypothesis, Ha: black-sounding or white-sounding resumes has a significant effect to be called for an interview"
   ]
  },
  {
   "cell_type": "markdown",
   "metadata": {},
   "source": [
    "#### 3) Compute margin of error, confidence interval, and p-value."
   ]
  },
  {
   "cell_type": "code",
   "execution_count": 6,
   "metadata": {
    "collapsed": false
   },
   "outputs": [
    {
     "name": "stdout",
     "output_type": "stream",
     "text": [
      "mean of the black-sounding resume call back = 0.064\n",
      "mean of the white-sounding resume call back = 0.097\n",
      "mean difference of the black-white sounding resume call back = 0.032\n",
      "probability of callback for any resume = 0.080\n",
      "standard deviation of sampling mean =0.0078\n",
      "Z_score = 4.1084\n",
      "Margin of error = 0.0320\n",
      "Lower Confidence Interval = 0.0000\n",
      "Upper Confidence Interval = 0.0641\n",
      "P-value = 0.0004\n"
     ]
    }
   ],
   "source": [
    "# margin of error = Z-score * standard deviation of sampling mean\n",
    "# Let us test the hypothesis\n",
    "\n",
    "mean_Bcall = Bcall/ (Bcall+Bcall_no)\n",
    "\n",
    "mean_Wcall = Wcall /(Wcall+Wcall_no)\n",
    "\n",
    "print('mean of the black-sounding resume call back = %0.3f'% mean_Bcall) \n",
    "print('mean of the white-sounding resume call back = %0.3f'% mean_Wcall) \n",
    "print('mean difference of the black-white sounding resume call back = %0.3f'% (mean_Wcall-mean_Bcall))\n",
    "# Finding the standard deviation of sample distribution of sampling mean for both resumes who got a callback\n",
    "\n",
    "# Based on the null hypothesis, the probablity of getting a callback for both is assumed to be the same (Pb=Pw=P):\n",
    "\n",
    "p= Tcall/len(data)\n",
    "print('probability of callback for any resume = %0.3f' % p)\n",
    "\n",
    "# Standard deviation of the sampling mean\n",
    "# Bcall + Bcall_no = Wcall + Wcall_no\n",
    "\n",
    "std_P = math.sqrt((2*(p)*(1-p))/(Bcall + Bcall_no))\n",
    "print('standard deviation of sampling mean =%0.4f' % std_P)\n",
    "\n",
    "# compute Z-score \n",
    "Z_score=((mean_Wcall-mean_Bcall)-0)/(std_P)\n",
    "print('Z_score = %0.4f' % Z_score)\n",
    "\n",
    "# Margin of error(E)\n",
    "E =Z_score * std_P\n",
    "print('Margin of error = %0.4f' % E)\n",
    "\n",
    "# The confidence interval is:\n",
    "print('Lower Confidence Interval = %0.4f' % (mean_Wcall-mean_Bcall-E))\n",
    "print('Upper Confidence Interval = %0.4f' % (mean_Wcall-mean_Bcall+E))\n",
    "\n",
    "# P-value for two-tailed hypothesis:\n",
    "prob_Z= 0.9998\n",
    "P_value = (1-0.9998)*2\n",
    "print('P-value = %0.4f' % P_value)      "
   ]
  },
  {
   "cell_type": "markdown",
   "metadata": {},
   "source": [
    "#### 4)Statistical significance in the context of the original problem\n",
    "\n",
    "From the above results, the P-value is 0.04%, which is less than our significance level of 5%. The probability is small that the callback for the black or white-sounding resumes was happened by chance. We reject the null hypothesis and tend to accept the alternative hypothesis. Therefore, our findings are statistically significant. \n"
   ]
  },
  {
   "cell_type": "markdown",
   "metadata": {},
   "source": [
    "#### 5) Does your analysis mean that race/name is the most important factor in callback success? Why or why not? If not, how would     you amend your analysis?\n",
    "\n",
    "The race/name plays important factor in callback success based on the statistical analysis done above. The findings show that the statistic is significant and reliable. Therefore, we have However, the significance difference can be large or small which will depend on the sample size."
   ]
  },
  {
   "cell_type": "code",
   "execution_count": null,
   "metadata": {
    "collapsed": true
   },
   "outputs": [],
   "source": []
  }
 ],
 "metadata": {
  "kernelspec": {
   "display_name": "Python 3",
   "language": "python",
   "name": "python3"
  },
  "language_info": {
   "codemirror_mode": {
    "name": "ipython",
    "version": 3
   },
   "file_extension": ".py",
   "mimetype": "text/x-python",
   "name": "python",
   "nbconvert_exporter": "python",
   "pygments_lexer": "ipython3",
   "version": "3.6.0"
  }
 },
 "nbformat": 4,
 "nbformat_minor": 0
}
