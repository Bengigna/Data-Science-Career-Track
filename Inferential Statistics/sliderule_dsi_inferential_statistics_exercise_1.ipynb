{
 "cells": [
  {
   "cell_type": "markdown",
   "metadata": {},
   "source": [
    "# What is the True Normal Human Body Temperature? \n",
    "\n",
    "#### Background\n",
    "\n",
    "The mean normal body temperature was held to be 37$^{\\circ}$C or 98.6$^{\\circ}$F for more than 120 years since it was first conceptualized and reported by Carl Wunderlich in a famous 1868 book. But, is this value statistically correct?"
   ]
  },
  {
   "cell_type": "markdown",
   "metadata": {},
   "source": [
    "<div class=\"span5 alert alert-info\">\n",
    "<h3>Exercises</h3>\n",
    "\n",
    "<p>In this exercise, you will analyze a dataset of human body temperatures and employ the concepts of hypothesis testing, confidence intervals, and statistical significance.</p>\n",
    "\n",
    "<p>Answer the following questions <b>in this notebook below and submit to your Github account</b>.</p> \n",
    "\n",
    "<ol>\n",
    "<li>  Is the distribution of body temperatures normal? \n",
    "    <ul>\n",
    "    <li> Although this is not a requirement for CLT to hold (read CLT carefully), it gives us some peace of mind that the population may also be normally distributed if we assume that this sample is representative of the population.\n",
    "    </ul>\n",
    "<li>  Is the sample size large? Are the observations independent?\n",
    "    <ul>\n",
    "    <li> Remember that this is a condition for the CLT, and hence the statistical tests we are using, to apply.\n",
    "    </ul>\n",
    "<li>  Is the true population mean really 98.6 degrees F?\n",
    "    <ul>\n",
    "    <li> Would you use a one-sample or two-sample test? Why?\n",
    "    <li> In this situation, is it appropriate to use the $t$ or $z$ statistic? \n",
    "    <li> Now try using the other test. How is the result be different? Why?\n",
    "    </ul>\n",
    "<li>  At what temperature should we consider someone's temperature to be \"abnormal\"?\n",
    "    <ul>\n",
    "    <li> Start by computing the margin of error and confidence interval.\n",
    "    </ul>\n",
    "<li>  Is there a significant difference between males and females in normal temperature?\n",
    "    <ul>\n",
    "    <li> What test did you use and why?\n",
    "    <li> Write a story with your conclusion in the context of the original problem.\n",
    "    </ul>\n",
    "</ol>\n",
    "\n",
    "You can include written notes in notebook cells using Markdown: \n",
    "   - In the control panel at the top, choose Cell > Cell Type > Markdown\n",
    "   - Markdown syntax: http://nestacms.com/docs/creating-content/markdown-cheat-sheet\n",
    "\n",
    "#### Resources\n",
    "\n",
    "+ Information and data sources: http://www.amstat.org/publications/jse/datasets/normtemp.txt, http://www.amstat.org/publications/jse/jse_data_archive.htm\n",
    "+ Markdown syntax: http://nestacms.com/docs/creating-content/markdown-cheat-sheet\n",
    "\n",
    "****\n",
    "</div>"
   ]
  },
  {
   "cell_type": "code",
   "execution_count": 43,
   "metadata": {
    "collapsed": false
   },
   "outputs": [
    {
     "data": {
      "text/plain": [
       "130"
      ]
     },
     "execution_count": 43,
     "metadata": {},
     "output_type": "execute_result"
    }
   ],
   "source": [
    "import pandas as pd\n",
    "import numpy as np\n",
    "import math\n",
    "\n",
    "df = pd.read_csv('data/human_body_temperature.csv')"
   ]
  },
  {
   "cell_type": "code",
   "execution_count": 54,
   "metadata": {
    "collapsed": false
   },
   "outputs": [
    {
     "name": "stdout",
     "output_type": "stream",
     "text": [
      "       temperature  heart_rate\n",
      "count   130.000000  130.000000\n",
      "mean     98.249231   73.761538\n",
      "std       0.733183    7.062077\n",
      "min      96.300000   57.000000\n",
      "25%      97.800000   69.000000\n",
      "50%      98.300000   74.000000\n",
      "75%      98.700000   79.000000\n",
      "max     100.800000   89.000000\n"
     ]
    },
    {
     "data": {
      "text/html": [
       "<div>\n",
       "<table border=\"1\" class=\"dataframe\">\n",
       "  <thead>\n",
       "    <tr style=\"text-align: right;\">\n",
       "      <th></th>\n",
       "      <th>temperature</th>\n",
       "      <th>gender</th>\n",
       "      <th>heart_rate</th>\n",
       "    </tr>\n",
       "  </thead>\n",
       "  <tbody>\n",
       "    <tr>\n",
       "      <th>0</th>\n",
       "      <td>99.3</td>\n",
       "      <td>F</td>\n",
       "      <td>68.0</td>\n",
       "    </tr>\n",
       "    <tr>\n",
       "      <th>1</th>\n",
       "      <td>98.4</td>\n",
       "      <td>F</td>\n",
       "      <td>81.0</td>\n",
       "    </tr>\n",
       "    <tr>\n",
       "      <th>2</th>\n",
       "      <td>97.8</td>\n",
       "      <td>M</td>\n",
       "      <td>73.0</td>\n",
       "    </tr>\n",
       "    <tr>\n",
       "      <th>3</th>\n",
       "      <td>99.2</td>\n",
       "      <td>F</td>\n",
       "      <td>66.0</td>\n",
       "    </tr>\n",
       "    <tr>\n",
       "      <th>4</th>\n",
       "      <td>98.0</td>\n",
       "      <td>F</td>\n",
       "      <td>73.0</td>\n",
       "    </tr>\n",
       "  </tbody>\n",
       "</table>\n",
       "</div>"
      ],
      "text/plain": [
       "   temperature gender  heart_rate\n",
       "0         99.3      F        68.0\n",
       "1         98.4      F        81.0\n",
       "2         97.8      M        73.0\n",
       "3         99.2      F        66.0\n",
       "4         98.0      F        73.0"
      ]
     },
     "execution_count": 54,
     "metadata": {},
     "output_type": "execute_result"
    }
   ],
   "source": [
    "print (df.describe())\n",
    "df.head()"
   ]
  },
  {
   "cell_type": "markdown",
   "metadata": {},
   "source": [
    "#### 1) Is the distribution of body temperatures normal?"
   ]
  },
  {
   "cell_type": "code",
   "execution_count": 3,
   "metadata": {
    "collapsed": false
   },
   "outputs": [
    {
     "name": "stdout",
     "output_type": "stream",
     "text": [
      "median_BTsample = 98.3000\n",
      "median_heartrate = 74.0000\n"
     ]
    }
   ],
   "source": [
    "mean_BTpopulation = 98.6\n",
    "sample_size = 130\n",
    "mean_BTsample = 98.249231\n",
    "std_BTsample =0.733183\n",
    "print ('median_BTsample = %0.4f' % df['temperature'].median())\n",
    "print ('median_heartrate = %0.4f' % df['heart_rate'].median())"
   ]
  },
  {
   "cell_type": "code",
   "execution_count": 7,
   "metadata": {
    "collapsed": true
   },
   "outputs": [],
   "source": [
    "import pandas as pd\n",
    "import scipy\n",
    "from scipy import stats\n",
    "from plotly.tools import FigureFactory as FF\n",
    "import plotly.plotly as py"
   ]
  },
  {
   "cell_type": "code",
   "execution_count": 46,
   "metadata": {
    "collapsed": false
   },
   "outputs": [
    {
     "data": {
      "text/html": [
       "<div>\n",
       "<table border=\"1\" class=\"dataframe\">\n",
       "  <thead>\n",
       "    <tr style=\"text-align: right;\">\n",
       "      <th></th>\n",
       "      <th>0</th>\n",
       "    </tr>\n",
       "  </thead>\n",
       "  <tbody>\n",
       "    <tr>\n",
       "      <th>Test Statistic</th>\n",
       "      <td>0.986577</td>\n",
       "    </tr>\n",
       "    <tr>\n",
       "      <th>p-value</th>\n",
       "      <td>0.233168</td>\n",
       "    </tr>\n",
       "  </tbody>\n",
       "</table>\n",
       "</div>"
      ],
      "text/plain": [
       "                       0\n",
       "Test Statistic  0.986577\n",
       "p-value         0.233168"
      ]
     },
     "execution_count": 46,
     "metadata": {},
     "output_type": "execute_result"
    }
   ],
   "source": [
    "# testing the null hypothesis that the body temperature was sampled from population that has a normal distribution. \n",
    "# Let us assume that our significance level is 0.05.\n",
    "\n",
    "temp = df['temperature']\n",
    "\n",
    "shapiro_norm = scipy.stats.shapiro(temp)\n",
    "\n",
    "matrix_nd = pd.DataFrame.from_dict({'Test Statistic':shapiro_norm[0], 'p-value':shapiro_norm[1]}, orient='index')\n",
    "matrix_nd"
   ]
  },
  {
   "cell_type": "markdown",
   "metadata": {},
   "source": [
    "since the p-value (0.23) is higher than the significance level of 0.05, we have enough evidence not to reject the null hypothesis at the 0.05 significance level."
   ]
  },
  {
   "cell_type": "markdown",
   "metadata": {},
   "source": [
    "#### 2) Is the sample size large? Are the observations independent?\n",
    "\n",
    "A) The mean and median of the sample data seem to be very close, which may refer to symmetric data. There is no evidence that the population data is not normally distributed [see the above results]. Considering the distribution of the sample, a sample size of 30 is considered sufficient (based on the conditions and assumption of CLT). As we have a sample size of 130, we can say the sample size is large enough.\n",
    "\n",
    "B) Are the observations independent? One of the conditions for CLT is to honor the randomization conditions. Was the sample randomly selected? with replacement or without replacement? I believe the sample was drawn without replacement as it is usually the case and seems to be less than 10% of the population [assumption of CLT]."
   ]
  },
  {
   "cell_type": "markdown",
   "metadata": {},
   "source": [
    "#### 3) Is the true population mean really 98.6 degrees F?\n",
    "\n",
    "The question seems to be one sample test because it is asking whether the population mean is significantly different or not from the standard value (in this case, 98.6). It is also appropriate to use a Z-statistic, as the sample size is greater than 30. Let us test the hypothesis that the true population mean is 98.6. "
   ]
  },
  {
   "cell_type": "markdown",
   "metadata": {
    "collapsed": true
   },
   "source": [
    "Assume null hypothesis, Ho: mean_pop = 98.6 and alternative hypothesis, Ha: mean_pop <> 98.6\n",
    "\n",
    "mean_BTpopulation = 98.6\n",
    "\n",
    "sample_size = 130\n",
    "\n",
    "mean_BTsample = 98.249231\n",
    "\n",
    "std_BTsample =0.733183\n",
    "\n",
    "Z = sample mean - population mean/(std_population/sqr(number of sample))\n",
    "\n",
    "As our sample size is greater than 30, we can substitue the std_population by std_mean.Let take the confidence interval of 95%. In the Z-table, we will look the z-score for 97.5%, which is 1.96."
   ]
  },
  {
   "cell_type": "code",
   "execution_count": 48,
   "metadata": {
    "collapsed": false
   },
   "outputs": [
    {
     "name": "stdout",
     "output_type": "stream",
     "text": [
      "The estimated lower value of the mean body temperature of the population = 98.38\n",
      "The estimated upper value of the mean body temperature of the population = 98.12\n"
     ]
    }
   ],
   "source": [
    "# Estimating population mean using the Z-score\n",
    "\n",
    "# Z > -1.96 and Z < 1.96, and from the above formula\n",
    "\n",
    "population_mean_UB = 98.249231 - ((1.96)*(0.733183/math.sqrt(130)))\n",
    "population_mean_LB = 98.249231 + ((1.96)*(0.733183/math.sqrt(130)))\n",
    "\n",
    "print('The estimated lower value of the mean body temperature of the population = %0.2F' % population_mean_LB)\n",
    "print('The estimated upper value of the mean body temperature of the population = %0.2F' % population_mean_UB)"
   ]
  },
  {
   "cell_type": "markdown",
   "metadata": {},
   "source": [
    "Based on the above result, there is 95% chance that the true population mean for the body temperature lies between 98.12 and 98.38, as opposed to given value of 98.60 degrees F. Therefore, we reject the null hypothesis and go foward with the alternative one. "
   ]
  },
  {
   "cell_type": "markdown",
   "metadata": {},
   "source": [
    "#### 4) At what temperature should we consider someone's temperature to be \"abnormal\"?"
   ]
  },
  {
   "cell_type": "markdown",
   "metadata": {},
   "source": [
    "The confidence interval of 95 % was taken, and the Z-score for that CI is 1.96. The margin of error can be estimated by multiplying Z-score with standard deviation of the sampling distribution of sampling mean. From the results below, the range for normal body temperature seems to be between 98.1227 and 98.3758 degrees F."
   ]
  },
  {
   "cell_type": "code",
   "execution_count": 104,
   "metadata": {
    "collapsed": false
   },
   "outputs": [
    {
     "name": "stdout",
     "output_type": "stream",
     "text": [
      "The margin error (E) = 0.1260\n",
      "Lower bound of the population mean = 98.1232\n",
      "Upper bound of the population mean = 98.3753\n"
     ]
    }
   ],
   "source": [
    "margin_error = 1.96 * (0.733183/math.sqrt(130))\n",
    "print('The margin error (E) = %0.4f' % margin_error)\n",
    "print('Lower bound of the population mean = %0.4f' % (mean_BTsample-margin_error))\n",
    "print('Upper bound of the population mean = %0.4f' % (mean_BTsample + margin_error))"
   ]
  },
  {
   "cell_type": "markdown",
   "metadata": {},
   "source": [
    "#### 5) Is there a significant difference between males and females in normal temperature?\n",
    "\n",
    "To answer this question, I prefer to use the independent two sample Z-test because we are examing two groups who have not natural one to one pairing. Let us do the hypothesis test to figure out whether there is a difference in normal body temperature between male and female or not."
   ]
  },
  {
   "cell_type": "code",
   "execution_count": 53,
   "metadata": {
    "collapsed": false
   },
   "outputs": [
    {
     "name": "stdout",
     "output_type": "stream",
     "text": [
      "       temperature  heart_rate\n",
      "count    65.000000   65.000000\n",
      "mean     98.104615   73.369231\n",
      "std       0.698756    5.875184\n",
      "min      96.300000   58.000000\n",
      "25%      97.600000   70.000000\n",
      "50%      98.100000   73.000000\n",
      "75%      98.600000   78.000000\n",
      "max      99.500000   86.000000\n",
      "       temperature  heart_rate\n",
      "count    65.000000   65.000000\n",
      "mean     98.393846   74.153846\n",
      "std       0.743488    8.105227\n",
      "min      96.400000   57.000000\n",
      "25%      98.000000   68.000000\n",
      "50%      98.400000   76.000000\n",
      "75%      98.800000   80.000000\n",
      "max     100.800000   89.000000\n"
     ]
    }
   ],
   "source": [
    "# Assume null hypothesis, Ho: mean_pop_male = mean_pop_female\n",
    "# alternative hypothesis, Ha: mean_pop_male <> mean_pop_female\n",
    "\n",
    "# mean_pop_male\n",
    "\n",
    "male_temp = df[df['gender'] == 'M']\n",
    "female_temp = df[df['gender'] == 'F']\n",
    "\n",
    "print(male_temp.describe())\n",
    "print(female_temp.describe())"
   ]
  },
  {
   "cell_type": "code",
   "execution_count": 102,
   "metadata": {
    "collapsed": false
   },
   "outputs": [
    {
     "name": "stdout",
     "output_type": "stream",
     "text": [
      "Estimated Z-score = 1.6174\n",
      "P-value = 0.1052\n",
      "Z_critical value = 1.9600 \n"
     ]
    }
   ],
   "source": [
    "# There are 65 male and 65 female observations. \n",
    "#significance level: 5%\n",
    "\n",
    "std_female = 0.743488\n",
    "std_male = 0.698756 \n",
    "no_diff = 0 # Assuming mean_male = mean_female\n",
    "\n",
    "# Sample mean of male and female is 98.104615 and 98.393846 respectively\n",
    "\n",
    "mean_diff = 98.393946-98.104615\n",
    "\n",
    "\n",
    "# Estimate Z-score\n",
    "Z_score = (mean_diff - no_diff)/((std_female/math.sqrt(65)) + (std_male/math.sqrt(65)))\n",
    "print('Estimated Z-score = %0.4f' % Z_score)\n",
    "\n",
    "# P-value at the estimated Z-score\n",
    "P_value_Zscore = 0.1052\n",
    "print ('P-value = %0.4f' % P_value_Zscore)\n",
    "\n",
    "# Critical Z-value at our significance level of 5 %;\n",
    "\n",
    "Z_criticalValue = 1.96\n",
    "\n",
    "print ('Z_critical value = %0.4f ' % Z_criticalValue)\n"
   ]
  },
  {
   "cell_type": "markdown",
   "metadata": {},
   "source": [
    "We fail to reject the null hypothesis, as the calculated Z-score is less than the critical Z-value at 0.05 significance level [P_value= 0.1052, which is greater than the 0.05 threshhold]. Therefore, there is no evidence that there is a significant difference between males and females in normal temperature. "
   ]
  },
  {
   "cell_type": "markdown",
   "metadata": {},
   "source": [
    "After conducting the above analysis, can we still say that the value of 98.6 degrees F statistically correct? It could be yes or no. The sample size and its distribution seem to be reasonable and symmetric respectively. The gender proportion of the sample is also acceptable. The population mean lies in the range of 98.12 - 98.38 which exludes the value of 98.60 degree F. The mean body temperature for male and female did not show any evidence for any significant difference. Both results are based on the 95% confidence interval. The difference between statistically calculated mean of the body temperature and the standard value is very small. Statistically speaking, the 98.6 value is not correct, as it is out of the range of the possible values. Therefore the true normal human body temperature lies between 98.12 - 98.38. However, what would the result be if more samples were collected? The accuracy would probably have been improved and our conclusion would be different."
   ]
  }
 ],
 "metadata": {
  "kernelspec": {
   "display_name": "Python 3",
   "language": "python",
   "name": "python3"
  },
  "language_info": {
   "codemirror_mode": {
    "name": "ipython",
    "version": 3
   },
   "file_extension": ".py",
   "mimetype": "text/x-python",
   "name": "python",
   "nbconvert_exporter": "python",
   "pygments_lexer": "ipython3",
   "version": "3.6.0"
  }
 },
 "nbformat": 4,
 "nbformat_minor": 0
}
