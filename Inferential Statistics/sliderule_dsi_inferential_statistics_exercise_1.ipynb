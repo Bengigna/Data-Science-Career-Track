{
 "cells": [
  {
   "cell_type": "markdown",
   "metadata": {},
   "source": [
    "# What is the True Normal Human Body Temperature? \n",
    "\n",
    "#### Background\n",
    "\n",
    "The mean normal body temperature was held to be 37$^{\\circ}$C or 98.6$^{\\circ}$F for more than 120 years since it was first conceptualized and reported by Carl Wunderlich in a famous 1868 book. But, is this value statistically correct?"
   ]
  },
  {
   "cell_type": "markdown",
   "metadata": {},
   "source": [
    "## Answer to the questions"
   ]
  },
  {
   "cell_type": "code",
   "execution_count": 1,
   "metadata": {
    "collapsed": false
   },
   "outputs": [],
   "source": [
    "import pandas as pd\n",
    "import numpy as np\n",
    "import math\n",
    "\n",
    "df = pd.read_csv('data/human_body_temperature.csv')"
   ]
  },
  {
   "cell_type": "code",
   "execution_count": 2,
   "metadata": {
    "collapsed": false
   },
   "outputs": [
    {
     "name": "stdout",
     "output_type": "stream",
     "text": [
      "       temperature  heart_rate\n",
      "count   130.000000  130.000000\n",
      "mean     98.249231   73.761538\n",
      "std       0.733183    7.062077\n",
      "min      96.300000   57.000000\n",
      "25%      97.800000   69.000000\n",
      "50%      98.300000   74.000000\n",
      "75%      98.700000   79.000000\n",
      "max     100.800000   89.000000\n"
     ]
    },
    {
     "data": {
      "text/html": [
       "<div>\n",
       "<table border=\"1\" class=\"dataframe\">\n",
       "  <thead>\n",
       "    <tr style=\"text-align: right;\">\n",
       "      <th></th>\n",
       "      <th>temperature</th>\n",
       "      <th>gender</th>\n",
       "      <th>heart_rate</th>\n",
       "    </tr>\n",
       "  </thead>\n",
       "  <tbody>\n",
       "    <tr>\n",
       "      <th>0</th>\n",
       "      <td>99.3</td>\n",
       "      <td>F</td>\n",
       "      <td>68.0</td>\n",
       "    </tr>\n",
       "    <tr>\n",
       "      <th>1</th>\n",
       "      <td>98.4</td>\n",
       "      <td>F</td>\n",
       "      <td>81.0</td>\n",
       "    </tr>\n",
       "    <tr>\n",
       "      <th>2</th>\n",
       "      <td>97.8</td>\n",
       "      <td>M</td>\n",
       "      <td>73.0</td>\n",
       "    </tr>\n",
       "    <tr>\n",
       "      <th>3</th>\n",
       "      <td>99.2</td>\n",
       "      <td>F</td>\n",
       "      <td>66.0</td>\n",
       "    </tr>\n",
       "    <tr>\n",
       "      <th>4</th>\n",
       "      <td>98.0</td>\n",
       "      <td>F</td>\n",
       "      <td>73.0</td>\n",
       "    </tr>\n",
       "  </tbody>\n",
       "</table>\n",
       "</div>"
      ],
      "text/plain": [
       "   temperature gender  heart_rate\n",
       "0         99.3      F        68.0\n",
       "1         98.4      F        81.0\n",
       "2         97.8      M        73.0\n",
       "3         99.2      F        66.0\n",
       "4         98.0      F        73.0"
      ]
     },
     "execution_count": 2,
     "metadata": {},
     "output_type": "execute_result"
    }
   ],
   "source": [
    "print (df.describe())\n",
    "df.head()"
   ]
  },
  {
   "cell_type": "markdown",
   "metadata": {},
   "source": [
    "#### 1) Is the distribution of body temperatures normal?"
   ]
  },
  {
   "cell_type": "code",
   "execution_count": 3,
   "metadata": {
    "collapsed": true
   },
   "outputs": [],
   "source": [
    "import pandas as pd\n",
    "import matplotlib.pyplot as plt\n",
    "import scipy\n",
    "from scipy import stats\n",
    "from plotly.tools import FigureFactory as FF\n",
    "import plotly.plotly as py\n",
    "import numpy as np\n",
    "import statsmodels.api as sm\n",
    "import pylab"
   ]
  },
  {
   "cell_type": "markdown",
   "metadata": {},
   "source": [
    "#### Option-1"
   ]
  },
  {
   "cell_type": "code",
   "execution_count": 4,
   "metadata": {
    "collapsed": false
   },
   "outputs": [
    {
     "name": "stdout",
     "output_type": "stream",
     "text": [
      "median_BTsample = 98.3000\n",
      "mean_BTsample = 98.2492\n",
      "number of male =65\n",
      "number of female =65\n"
     ]
    }
   ],
   "source": [
    "# Computing the mean and median of the body temperature \n",
    "\n",
    "mean_BTpopulation = 98.6\n",
    "sample_size = 130\n",
    "mean_BTsample = 98.249231\n",
    "std_BTsample =0.733183\n",
    "print ('median_BTsample = %0.4f' % df['temperature'].median())\n",
    "print ('mean_BTsample = %0.4f' % df['temperature'].mean())\n",
    "print('number of male =%d' % len(df[df['gender'] == 'M']))\n",
    "print('number of female =%d'% len(df[df['gender'] == 'F']))"
   ]
  },
  {
   "cell_type": "code",
   "execution_count": 5,
   "metadata": {
    "collapsed": false
   },
   "outputs": [
    {
     "data": {
      "image/png": "[encoded data removed]",
      "text/plain": [
       "<matplotlib.figure.Figure at 0xd89a92d828>"
      ]
     },
     "metadata": {},
     "output_type": "display_data"
    }
   ],
   "source": [
    "# Sample distribution of sampling mean for the body temperature\n",
    "nbt = list(df['temperature'])\n",
    "nbt.sort()\n",
    "hmean = np.mean(nbt)\n",
    "hstd = np.std(nbt)\n",
    "pdf = stats.norm.pdf(nbt, hmean, hstd)\n",
    "\n",
    "plt.plot(nbt, pdf)\n",
    "plt.hist(nbt,normed=True)\n",
    "plt.xlabel('Temperature')\n",
    "\n",
    "plt.show()"
   ]
  },
  {
   "cell_type": "markdown",
   "metadata": {},
   "source": [
    "#### Option-2"
   ]
  },
  {
   "cell_type": "code",
   "execution_count": 6,
   "metadata": {
    "collapsed": false
   },
   "outputs": [
    {
     "data": {
      "image/png": "[encoded data removed]",
      "text/plain": [
       "<matplotlib.figure.Figure at 0xd894b38208>"
      ]
     },
     "metadata": {},
     "output_type": "display_data"
    }
   ],
   "source": [
    "# QQ-plot to test the normal distribution\n",
    "\n",
    "stats.probplot(df['temperature'], dist=\"norm\", fit=True, plot=pylab)\n",
    "pylab.show()"
   ]
  },
  {
   "cell_type": "markdown",
   "metadata": {},
   "source": [
    "#### Option-3"
   ]
  },
  {
   "cell_type": "code",
   "execution_count": 7,
   "metadata": {
    "collapsed": false
   },
   "outputs": [
    {
     "data": {
      "text/html": [
       "<div>\n",
       "<table border=\"1\" class=\"dataframe\">\n",
       "  <thead>\n",
       "    <tr style=\"text-align: right;\">\n",
       "      <th></th>\n",
       "      <th>0</th>\n",
       "    </tr>\n",
       "  </thead>\n",
       "  <tbody>\n",
       "    <tr>\n",
       "      <th>Test Statistic</th>\n",
       "      <td>0.986577</td>\n",
       "    </tr>\n",
       "    <tr>\n",
       "      <th>p-value</th>\n",
       "      <td>0.233168</td>\n",
       "    </tr>\n",
       "  </tbody>\n",
       "</table>\n",
       "</div>"
      ],
      "text/plain": [
       "                       0\n",
       "Test Statistic  0.986577\n",
       "p-value         0.233168"
      ]
     },
     "execution_count": 7,
     "metadata": {},
     "output_type": "execute_result"
    }
   ],
   "source": [
    "# testing the null hypothesis that the body temperature was sampled from population that has a normal distribution. \n",
    "# Let us assume that our significance level is 0.05.\n",
    "\n",
    "# The Shapiro-Wilk normality test is reputadely more well suited to smaller datasets.\n",
    "\n",
    "temp = df['temperature']\n",
    "\n",
    "shapiro_norm = scipy.stats.shapiro(temp)\n",
    "\n",
    "matrix_nd = pd.DataFrame.from_dict({'Test Statistic':shapiro_norm[0], 'p-value':shapiro_norm[1]}, orient='index')\n",
    "matrix_nd"
   ]
  },
  {
   "cell_type": "markdown",
   "metadata": {},
   "source": [
    "Option-1 [histogram plot]: shows the body temperatures has a normal distribution.\n",
    "\n",
    "Option-2 [QQ-plot]: indicates the distribution of the body temperatures is normal.\n",
    "\n",
    "Option-3 [Shapiro test]: Since the p-value (0.23) is lower than our test-statistic, we have enough evidence not to reject the null hypothesis at the 0.05 significance level. That indicates the distribution of the body temperatures is normal."
   ]
  },
  {
   "cell_type": "markdown",
   "metadata": {},
   "source": [
    "#### 2) Is the sample size large? Are the observations independent?\n",
    "\n",
    "A) The mean and median of the sample data seem to be very close, which may refer to symmetric data. There is also no evidence that the population data is not normally distributed [see the above results]. A sample size of 30 is taken as sufficient based on the conditions of CLT). As we have a sample size of 130, we can say the sample size is large enough.\n",
    "\n",
    "B) Are the observations independent? One of the conditions for CLT is to honor the randomization conditions and sample independency. Based on the above analysis, the distribution of sample mean seems to be normally distributed, which may indirectly indicate random sampling from the population with replacement [the observations are independent]. Also, there are equal number of males and females in the sample. We are assuming here that they most likely use unique thermometer for each person. If someone used one thermometer for all individuals, it is hard to say that the observations were independent."
   ]
  },
  {
   "cell_type": "markdown",
   "metadata": {},
   "source": [
    "#### 3) Is the true population mean really 98.6 degrees F?\n",
    "\n",
    "The question seems to be one sample test because it is asking whether the population mean is significantly different or not from the standard value (in this case, 98.6). It is also appropriate to use a Z-statistic, as the sample size is greater than 30. Let us test the hypothesis that the true population mean is 98.6. "
   ]
  },
  {
   "cell_type": "markdown",
   "metadata": {
    "collapsed": true
   },
   "source": [
    "Assume null hypothesis, Ho: mean_pop = 98.6 and alternative hypothesis, Ha: mean_pop <> 98.6\n",
    "\n",
    "mean_BTpopulation = 98.6\n",
    "\n",
    "sample_size = 130\n",
    "\n",
    "mean_BTsample = 98.249231\n",
    "\n",
    "std_BTsample =0.733183\n",
    "\n",
    "Z = sample mean - population mean/(std_population/sqr(number of sample))\n",
    "\n",
    "As our sample size is greater than 30, we can substitue the std_population by std_mean.Let take the confidence interval of 95%. In the Z-table, we will look the z-score for 97.5%, which is 1.96."
   ]
  },
  {
   "cell_type": "code",
   "execution_count": 8,
   "metadata": {
    "collapsed": false
   },
   "outputs": [
    {
     "name": "stdout",
     "output_type": "stream",
     "text": [
      "The estimated lower value of the mean body temperature of the population = 98.12\n",
      "The estimated upper value of the mean body temperature of the population = 98.38\n"
     ]
    }
   ],
   "source": [
    "# Estimating population mean using the Z-score\n",
    "\n",
    "# Z > -1.96 and Z < 1.96, and from the above formula\n",
    "\n",
    "meanTemp = df['temperature'].mean()\n",
    "stdTemp = df['temperature'].std()\n",
    "n=130\n",
    "z=1.96\n",
    "\n",
    "population_mean_LB = meanTemp - ((z)*(stdTemp/math.sqrt(n)))\n",
    "population_mean_UB = meanTemp + ((z)*(stdTemp/math.sqrt(n)))\n",
    "\n",
    "print('The estimated lower value of the mean body temperature of the population = %0.2f' % population_mean_LB)\n",
    "print('The estimated upper value of the mean body temperature of the population = %0.2f' % population_mean_UB)"
   ]
  },
  {
   "cell_type": "markdown",
   "metadata": {},
   "source": [
    "Based on the above result, there is 95% chance that the true population mean for the body temperature lies between 98.12 and 98.38, as opposed to given value of 98.60 degrees F. Therefore, we reject the null hypothesis and go foward with the alternative one. "
   ]
  },
  {
   "cell_type": "markdown",
   "metadata": {},
   "source": [
    "#### 4) At what temperature should we consider someone's temperature to be \"abnormal\"?"
   ]
  },
  {
   "cell_type": "markdown",
   "metadata": {},
   "source": [
    "The confidence interval of 95 % was taken, and the Z-score for that CI is 1.96. The margin of error can be estimated by multiplying Z-score with standard deviation of the sampling distribution of sampling mean. From the results below, the range for normal body temperature seems to be between 98.1227 and 98.3758 degrees F."
   ]
  },
  {
   "cell_type": "code",
   "execution_count": 9,
   "metadata": {
    "collapsed": false
   },
   "outputs": [
    {
     "name": "stdout",
     "output_type": "stream",
     "text": [
      "The margin error (E) = 0.1260\n",
      "Lower bound of the population mean = 98.1232\n",
      "Upper bound of the population mean = 98.3753\n"
     ]
    }
   ],
   "source": [
    "margin_error = 1.96 * (0.733183/math.sqrt(130))\n",
    "print('The margin error (E) = %0.4f' % margin_error)\n",
    "print('Lower bound of the population mean = %0.4f' % (mean_BTsample-margin_error))\n",
    "print('Upper bound of the population mean = %0.4f' % (mean_BTsample + margin_error))"
   ]
  },
  {
   "cell_type": "markdown",
   "metadata": {},
   "source": [
    "#### 5) Is there a significant difference between males and females in normal temperature?\n",
    "\n",
    "To answer this question, I prefer to use the paired two sample Z-test because we are examing two groups for the same matter [body temperature]. Let us do the hypothesis test to figure out whether there is a difference in normal body temperature between male and female or not."
   ]
  },
  {
   "cell_type": "code",
   "execution_count": 10,
   "metadata": {
    "collapsed": false
   },
   "outputs": [],
   "source": [
    "# Assume null hypothesis, Ho: mean_pop_male = mean_pop_female\n",
    "# alternative hypothesis, Ha: mean_pop_male is different from mean_pop_female\n",
    "\n",
    "# mean_pop_male\n",
    "\n",
    "male_temp = df[df['gender'] == 'M']\n",
    "female_temp = df[df['gender'] == 'F']\n",
    "\n",
    "# For males\n",
    "mean_male = male_temp['temperature'].mean()\n",
    "std_male = male_temp['temperature'].std()\n",
    "\n",
    "# For females\n",
    "mean_female = female_temp['temperature'].mean()\n",
    "std_female = female_temp['temperature'].std()"
   ]
  },
  {
   "cell_type": "code",
   "execution_count": 11,
   "metadata": {
    "collapsed": false
   },
   "outputs": [
    {
     "name": "stdout",
     "output_type": "stream",
     "text": [
      "Estimated Z-score = -1.6168\n",
      "P-value = 0.1052\n"
     ]
    }
   ],
   "source": [
    "# There are 65 male and 65 female observations. \n",
    "#significance level: 5%\n",
    "\n",
    "# Assuming mean_male = mean_female\n",
    "no_diff = 0 \n",
    "\n",
    "# sample mean difference\n",
    "mean_diff = mean_male-mean_female\n",
    "\n",
    "# Estimate Z-score\n",
    "Z_score = (mean_diff - no_diff)/((std_male/math.sqrt(65)) + (std_female/math.sqrt(65)))\n",
    "print('Estimated Z-score = %0.4f' % Z_score)\n",
    "\n",
    "# P-value at the estimated Z-score (0.0526) for two-tailed hypothesis\n",
    "P_value_Zscore = 0.0526 * 2\n",
    "print ('P-value = %0.4f' % P_value_Zscore)\n"
   ]
  },
  {
   "cell_type": "markdown",
   "metadata": {},
   "source": [
    "We fail to reject the null hypothesis, since the P-value of 0.1052 is greater than our significant level of 0.05. Therefore, there is no evidence that there is a significant difference between mean body temperature of males and females. "
   ]
  },
  {
   "cell_type": "markdown",
   "metadata": {},
   "source": [
    "After conducting the above analysis, can we still say that the value of 98.6 degrees F statistically correct? The sample size and its distribution seem to be reasonable and symmetric respectively. The gender proportion of the sample is also acceptable. The population mean lies in the range of 98.12 - 98.38 which exludes the value of 98.60 degree F. The mean body temperature for male and female did not show any evidence for any significant difference. Both results are based on the 95% confidence interval. The difference between statistically calculated mean of the body temperature and the standard value is very small. Statistically speaking, the 98.6 value is not correct, as it is out of the range of the possible values. Therefore there is a 95% likely chance that  true normal human body temperature lies between 98.12 - 98.38. "
   ]
  },
  {
   "cell_type": "code",
   "execution_count": null,
   "metadata": {
    "collapsed": true
   },
   "outputs": [],
   "source": []
  }
 ],
 "metadata": {
  "kernelspec": {
   "display_name": "Python 3",
   "language": "python",
   "name": "python3"
  },
  "language_info": {
   "codemirror_mode": {
    "name": "ipython",
    "version": 3
   },
   "file_extension": ".py",
   "mimetype": "text/x-python",
   "name": "python",
   "nbconvert_exporter": "python",
   "pygments_lexer": "ipython3",
   "version": "3.6.0"
  }
 },
 "nbformat": 4,
 "nbformat_minor": 0
}
